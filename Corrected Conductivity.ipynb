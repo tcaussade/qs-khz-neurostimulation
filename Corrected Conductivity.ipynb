{
 "cells": [
  {
   "cell_type": "markdown",
   "metadata": {},
   "source": [
    "## Compute the corrected conductivity\n",
    "\n",
    "As proposed in:\n",
    "*Towards a more accurate quasi-static approximation of the electric potential for neurostimulation with kilohertz-frequency sources* (T. Caussade, E. Paduro, M. Courdurier, E. Cerpa, W.E. Grill, L.E. Medina)."
   ]
  },
  {
   "cell_type": "code",
   "execution_count": null,
   "metadata": {},
   "outputs": [],
   "source": [
    "import numpy as np\n",
    "from inh_src.functionalities import *"
   ]
  },
  {
   "cell_type": "code",
   "execution_count": 11,
   "metadata": {},
   "outputs": [],
   "source": [
    "# Select tissue\n",
    "tissue = \"brain_grey\"\n",
    "\n",
    "# Select waveform\n",
    "waveform = \"canonical\"\n",
    "pw       = 0.1 * 2 # pulse duration (2ms)\n",
    "\n",
    "# Series truncation\n",
    "fmax = 2000 # (kHz)"
   ]
  },
  {
   "cell_type": "code",
   "execution_count": 12,
   "metadata": {},
   "outputs": [],
   "source": [
    "simulation_params = {\"fcutoff\" : fmax, \"pp\" : np.NaN}  \n",
    "EXP = Experiment(simulation_params)\n",
    "\n",
    "# Other source parameters\n",
    "source_params = {\"forma\": waveform,\n",
    "                  \"amp\": 1.0, \n",
    "                  \"ps\": 0.5,\n",
    "                  \"ftrain\": 0.1, \n",
    "                  \"tend\": 10, \n",
    "                  \"npulses\": 1, \n",
    "                  \"pol\": -1,\n",
    "                  \"loc\": np.array([0.,1.0,0.]), \n",
    "                  \"pw\": pw}\n",
    "\n",
    "ELEC = ElectricPotential(source_params, \"QS\")\n",
    "\n",
    "TISSUE = Tissue(tissue)"
   ]
  },
  {
   "cell_type": "markdown",
   "metadata": {},
   "source": [
    "Compute the corrected conductivity!"
   ]
  },
  {
   "cell_type": "code",
   "execution_count": 15,
   "metadata": {},
   "outputs": [
    {
     "name": "stdout",
     "output_type": "stream",
     "text": [
      "Effective conductivity is 0.1045998 S/m\n"
     ]
    }
   ],
   "source": [
    "sopt = EXP.optimal_sqs(TISSUE, ELEC)\n",
    "print(\"Effective conductivity is %1.7f S/m\" %  sopt)"
   ]
  }
 ],
 "metadata": {
  "kernelspec": {
   "display_name": "Python 3",
   "language": "python",
   "name": "python3"
  },
  "language_info": {
   "codemirror_mode": {
    "name": "ipython",
    "version": 3
   },
   "file_extension": ".py",
   "mimetype": "text/x-python",
   "name": "python",
   "nbconvert_exporter": "python",
   "pygments_lexer": "ipython3",
   "version": "3.7.0"
  },
  "orig_nbformat": 4
 },
 "nbformat": 4,
 "nbformat_minor": 2
}
