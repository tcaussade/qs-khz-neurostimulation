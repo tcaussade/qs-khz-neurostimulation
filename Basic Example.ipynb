{
 "cells": [
  {
   "cell_type": "markdown",
   "metadata": {},
   "source": [
    "## How to run experiments to compare QS and IH?\n",
    "\n",
    "Based on the work:\n",
    "\n",
    "\"Towards a more accurate quasi-static approximation of the electric potential for neurostimulation with kilohertz-frequency sources\" for explanations.\"\n",
    "\n",
    "Authors: Thomas Caussade, Esteban Paduro, Matías Courdurier, Eduardo Cerpa, Warren M. Grill, Leonel E. Medina"
   ]
  },
  {
   "cell_type": "markdown",
   "metadata": {},
   "source": [
    "\n",
    "First, we import all relevant needed functionalities"
   ]
  },
  {
   "cell_type": "code",
   "execution_count": 1,
   "metadata": {},
   "outputs": [],
   "source": [
    "from neuron import h\n",
    "import matplotlib.pyplot as plt\n",
    "import numpy as np\n",
    "import time as time\n",
    "\n",
    "from inh_src.functionalities import *\n",
    "\n",
    "### This is the same than running:\n",
    "# from inh_src.Tissue import Tissue\n",
    "# from inh_src.ElectricPotential import ElectricPotential\n",
    "# from inh_src.Experiment import Experiment\n",
    "# from inh_src.NeuralResponse import FiberConstructor, NeuronExperiment\n"
   ]
  },
  {
   "cell_type": "markdown",
   "metadata": {},
   "source": [
    "### Select the (dispersive) media\n",
    "Tissue.py creates an object containing all neccesary data to compute the required permitivitties and conductivities, using the multiple Cole-Cole model proposed by Gabriel.\n",
    "\n",
    "To add new tissues, you should look for the tables in the original reference and copy the necessary parameters.\n",
    "\n",
    "Currently available tissues are: brain grey matter, white matter, liver, bone, fat, muscle and skin. "
   ]
  },
  {
   "cell_type": "code",
   "execution_count": 2,
   "metadata": {},
   "outputs": [],
   "source": [
    "# Select Media #\n",
    "tissue_type = \"brain_grey\"\n",
    "TISSUE = Tissue(tissue_type)"
   ]
  },
  {
   "cell_type": "markdown",
   "metadata": {},
   "source": [
    "### Define the experiment and source parameters"
   ]
  },
  {
   "cell_type": "code",
   "execution_count": 3,
   "metadata": {},
   "outputs": [],
   "source": [
    "# Point-source stimulation parameters\n",
    "source_params = {\"forma\": \"biphasic_train\", # waveform \n",
    "                \"amp\": 0.5,  # stimulation amplitude (mA)\n",
    "                \"ps\": 10,     # begin stimulation (ms)\n",
    "                \"pw\": 0.01,   # pulse duration (ms) \n",
    "                \"ftrain\": .1, # frequency of repetition (kHz)\n",
    "                \"tend\": 15,   # end experiment (ms)\n",
    "                \"npulses\": 1, # number of pulses\n",
    "                \"loc\": np.array([0.,1,0.]), # electrode-to-fiber distance (mm)\n",
    "                \"pol\": -1}    # polarity (first-phase anodic or cathodic)\n",
    "\n",
    "# Select electric model\n",
    "electric_model = \"QS\" \n",
    "\n",
    "# Construct the source\n",
    "elec  = ElectricPotential(source_params, electric_model)\n",
    "\n",
    "# simulation parameters\n",
    "simulation_params = {\"fcutoff\" : 500.0, # Maximal frequency content (kHz)\n",
    "                     \"pp\" : 20}         # Points to sample the highest frequency\n",
    "\n",
    "# Construct the experiment\n",
    "EXP = Experiment(simulation_params)\n",
    "EXP.dt = 1e-6 # You can set the time step in this manner\n"
   ]
  },
  {
   "cell_type": "markdown",
   "metadata": {},
   "source": [
    "### Compute the electric potential\n",
    "\n",
    "To apply the stimulation to the fiber, you must join the generated potential (array) and its data (dict) as a tuple."
   ]
  },
  {
   "cell_type": "code",
   "execution_count": 4,
   "metadata": {},
   "outputs": [
    {
     "name": "stdout",
     "output_type": "stream",
     "text": [
      "\n",
      " Computing QS electric potential\n",
      "Conductivity: 0.105 [S/m]\n"
     ]
    }
   ],
   "source": [
    "# Time grid\n",
    "t     = EXP.timegrid([elec])\n",
    "\n",
    "# Compute the generated potential \n",
    "sqs   = 0.105 # Quasi-static conductivity (only required if electric_model == \"QS\")\n",
    "pot   = EXP.compute_potential(t,elec, TISSUE, sigma_qs = sqs)\n",
    "\n",
    "# Join the potential and its data\n",
    "elec1 = (elec,pot)"
   ]
  },
  {
   "cell_type": "markdown",
   "metadata": {},
   "source": [
    "### Construct the MRG model fiber\n",
    "\n",
    "You can provide all necesarry parameters here. The model is assembled using Neuron capabilities."
   ]
  },
  {
   "cell_type": "code",
   "execution_count": 5,
   "metadata": {},
   "outputs": [
    {
     "name": "stderr",
     "output_type": "stream",
     "text": [
      "NEURON: Couldn't find: nrnfiberlib/fiber_library.hoc\n",
      " near line 0\n",
      " objref hoc_obj_[2]\n",
      "                   ^\n"
     ]
    },
    {
     "ename": "AttributeError",
     "evalue": "'hoc.HocObject' object has no attribute 'MRGFiber'",
     "output_type": "error",
     "traceback": [
      "\u001b[1;31m---------------------------------------------------------------------------\u001b[0m",
      "\u001b[1;31mAttributeError\u001b[0m                            Traceback (most recent call last)",
      "\u001b[1;32m<ipython-input-5-3a123d21636f>\u001b[0m in \u001b[0;36m<module>\u001b[1;34m\u001b[0m\n\u001b[0;32m      6\u001b[0m                 \u001b[1;34m\"fiberD\"\u001b[0m \u001b[1;33m:\u001b[0m \u001b[1;36m16.0\u001b[0m\u001b[1;33m,\u001b[0m\u001b[1;33m\u001b[0m\u001b[0m\n\u001b[0;32m      7\u001b[0m                 \"nnodes\" : 84}\n\u001b[1;32m----> 8\u001b[1;33m \u001b[0mFIBER\u001b[0m \u001b[1;33m=\u001b[0m \u001b[0mFiberConstructor\u001b[0m\u001b[1;33m(\u001b[0m\u001b[0mfiber_params\u001b[0m\u001b[1;33m)\u001b[0m\u001b[1;33m.\u001b[0m\u001b[0massign_fiber_model\u001b[0m\u001b[1;33m(\u001b[0m\u001b[1;34m\"MRG\"\u001b[0m\u001b[1;33m)\u001b[0m\u001b[1;33m\u001b[0m\u001b[0m\n\u001b[0m",
      "\u001b[1;32mc:\\Users\\tstra\\Documents\\GitHub\\quasistatic-khz-sources\\inh_src\\NeuralResponse.py\u001b[0m in \u001b[0;36massign_fiber_model\u001b[1;34m(self, model)\u001b[0m\n\u001b[0;32m     20\u001b[0m         \u001b[0mself\u001b[0m\u001b[1;33m.\u001b[0m\u001b[0mfibermodel\u001b[0m \u001b[1;33m=\u001b[0m \u001b[0mmodel\u001b[0m\u001b[1;33m\u001b[0m\u001b[0m\n\u001b[0;32m     21\u001b[0m         \u001b[1;32mif\u001b[0m \u001b[0mmodel\u001b[0m \u001b[1;33m==\u001b[0m \u001b[1;34m\"MRG\"\u001b[0m\u001b[1;33m:\u001b[0m\u001b[1;33m\u001b[0m\u001b[0m\n\u001b[1;32m---> 22\u001b[1;33m             \u001b[1;32mreturn\u001b[0m  \u001b[0mh\u001b[0m\u001b[1;33m.\u001b[0m\u001b[0mMRGFiber\u001b[0m\u001b[1;33m(\u001b[0m\u001b[0mself\u001b[0m\u001b[1;33m.\u001b[0m\u001b[0mfiberD\u001b[0m\u001b[1;33m,\u001b[0m \u001b[0mself\u001b[0m\u001b[1;33m.\u001b[0m\u001b[0mnnodes\u001b[0m\u001b[1;33m)\u001b[0m\u001b[1;33m\u001b[0m\u001b[0m\n\u001b[0m\u001b[0;32m     23\u001b[0m         \u001b[1;32melif\u001b[0m \u001b[0mmodel\u001b[0m \u001b[1;33m==\u001b[0m \u001b[1;34m\"DCFiber\"\u001b[0m\u001b[1;33m:\u001b[0m\u001b[1;33m\u001b[0m\u001b[0m\n\u001b[0;32m     24\u001b[0m             return  h.DCFiber(self.fiberD, self.nnodes,\n",
      "\u001b[1;31mAttributeError\u001b[0m: 'hoc.HocObject' object has no attribute 'MRGFiber'"
     ]
    }
   ],
   "source": [
    "# create fiber #\n",
    "fiber_params = {\"constant_cm\" : 0,\n",
    "                \"c_dc\" : 1.0,\n",
    "                \"is_xtra\" : 1,\n",
    "                \"intra_node\" : 0,\n",
    "                \"fiberD\" : 16.0,\n",
    "                \"nnodes\" : 84}\n",
    "FIBER = FiberConstructor(fiber_params).assign_fiber_model(\"MRG\")"
   ]
  },
  {
   "cell_type": "markdown",
   "metadata": {},
   "source": [
    "### Run Neuron!\n",
    "Set the necessary parameters in Neuron and run the neural simulation."
   ]
  },
  {
   "cell_type": "code",
   "execution_count": null,
   "metadata": {},
   "outputs": [
    {
     "name": "stdout",
     "output_type": "stream",
     "text": [
      "Applying extracellular potential...\n",
      "Running neuron!\n",
      "Time elapsed [s]: 23.376750707626343\n"
     ]
    },
    {
     "data": {
      "image/png": "[encoded data removed]",
      "text/plain": [
       "<Figure size 432x288 with 2 Axes>"
      ]
     },
     "metadata": {
      "needs_background": "light"
     },
     "output_type": "display_data"
    }
   ],
   "source": [
    "# neuron parameters\n",
    "h_params = {\"temperature\": 37, # Celsius\n",
    "            \"v_init\" : -77.3,  # [mV]\n",
    "            \"tend\" : source_params[\"tend\"],\n",
    "            \"cvode\": 0}\n",
    "\n",
    "# Run simulation!\n",
    "tr0 = time.time()\n",
    "th, output  = NeuronExperiment(h_params).run_neuron(FIBER,t*1e3,(elec1,))\n",
    "print(\"Time elapsed [s]:\", time.time()-tr0 )\n",
    "\n",
    "# Show the applied potential (output[\"ex\"]) and voltage in the end of the fiber (output[\"ve\"])\n",
    "fig,ax = plt.subplots(2,1, sharex = True)\n",
    "ax[0].plot(th, output[\"ex\"], label = \"neuron\")\n",
    "ax[0].set_xlabel(\"time [ms]\")\n",
    "ax[0].set_ylabel(\"Electric stimulus [mV]\")\n",
    "ax[1].plot(th, output[\"ve\"])\n",
    "ax[1].set_xlabel(\"time [ms]\")\n",
    "ax[1].set_ylabel(\"Fiber potential [mV]\")\n",
    "\n",
    "plt.show()\n"
   ]
  },
  {
   "cell_type": "code",
   "execution_count": null,
   "metadata": {},
   "outputs": [],
   "source": []
  }
 ],
 "metadata": {
  "kernelspec": {
   "display_name": "Python 3",
   "language": "python",
   "name": "python3"
  },
  "language_info": {
   "codemirror_mode": {
    "name": "ipython",
    "version": 3
   },
   "file_extension": ".py",
   "mimetype": "text/x-python",
   "name": "python",
   "nbconvert_exporter": "python",
   "pygments_lexer": "ipython3",
   "version": "3.7.0"
  },
  "orig_nbformat": 4
 },
 "nbformat": 4,
 "nbformat_minor": 2
}
