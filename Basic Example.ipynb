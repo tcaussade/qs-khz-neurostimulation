{
 "cells": [
  {
   "cell_type": "markdown",
   "metadata": {},
   "source": [
    "## How to run experiments to compare QS and IH?\n",
    "\n",
    "Based on the work:\n",
    "*Towards a more accurate quasi-static approximation of the electric potential for neurostimulation with kilohertz-frequency sources* (T. Caussade, E. Paduro, M. Courdurier, E. Cerpa, W.E. Grill, L.E. Medina)."
   ]
  },
  {
   "cell_type": "markdown",
   "metadata": {},
   "source": [
    "\n",
    "First, we import all relevant needed functionalities"
   ]
  },
  {
   "cell_type": "code",
   "execution_count": 8,
   "metadata": {},
   "outputs": [],
   "source": [
    "from neuron import h\n",
    "import matplotlib.pyplot as plt\n",
    "import numpy as np\n",
    "import time as time\n",
    "\n",
    "from inh_src.functionalities import *\n",
    "\n",
    "### This is the same than running:\n",
    "# from inh_src.Tissue import Tissue\n",
    "# from inh_src.ElectricPotential import ElectricPotential\n",
    "# from inh_src.Experiment import Experiment\n",
    "# from inh_src.NeuralResponse import FiberConstructor, NeuronExperiment\n"
   ]
  },
  {
   "cell_type": "markdown",
   "metadata": {},
   "source": [
    "### Select the (dispersive) media\n",
    "Tissue.py creates an object containing all neccesary data to compute the required permitivitties and conductivities, using the multiple Cole-Cole model proposed by Gabriel.\n",
    "\n",
    "To add new tissues, you should look for the tables in the original reference and copy the necessary parameters.\n",
    "\n",
    "Currently available tissues are: brain grey matter, white matter, liver, bone, fat, muscle and skin. "
   ]
  },
  {
   "cell_type": "code",
   "execution_count": 9,
   "metadata": {},
   "outputs": [],
   "source": [
    "# Select Media #\n",
    "tissue_type = \"brain_grey\"\n",
    "TISSUE = Tissue(tissue_type)"
   ]
  },
  {
   "cell_type": "markdown",
   "metadata": {},
   "source": [
    "### Define the experiment and source parameters"
   ]
  },
  {
   "cell_type": "code",
   "execution_count": 10,
   "metadata": {},
   "outputs": [],
   "source": [
    "# Point-source stimulation parameters\n",
    "source_params = {\"forma\": \"canonical\", # waveform \n",
    "                \"amp\": 0.5,  # stimulation amplitude (mA)\n",
    "                \"ps\": 10,     # begin stimulation (ms)\n",
    "                \"pw\": 0.01,   # pulse duration (ms) \n",
    "                \"ftrain\": .1, # frequency of repetition (kHz)\n",
    "                \"tend\": 15,   # end experiment (ms)\n",
    "                \"npulses\": 1, # number of pulses\n",
    "                \"loc\": np.array([0.,1,0.]), # electrode-to-fiber distance (mm)\n",
    "                \"pol\": -1}    # polarity (first-phase anodic or cathodic)\n",
    "\n",
    "# Select electric model\n",
    "electric_model = \"IH\" \n",
    "\n",
    "# Construct the source\n",
    "elec  = ElectricPotential(source_params, electric_model)\n",
    "\n",
    "# simulation parameters\n",
    "simulation_params = {\"fcutoff\" : 500.0, # Maximal frequency content (kHz)\n",
    "                     \"pp\" : 20}         # Points to sample the highest frequency\n",
    "\n",
    "# Construct the experiment\n",
    "EXP = Experiment(simulation_params)\n",
    "EXP.dt = 1e-6 # You can set the time step in this manner\n"
   ]
  },
  {
   "cell_type": "markdown",
   "metadata": {},
   "source": [
    "### Compute the electric potential\n",
    "\n",
    "To apply the stimulation to the fiber, you must join the generated potential (array) and its data (dict) as a tuple."
   ]
  },
  {
   "cell_type": "code",
   "execution_count": 11,
   "metadata": {},
   "outputs": [
    {
     "name": "stdout",
     "output_type": "stream",
     "text": [
      "\n",
      " Computing IH electric potential\n",
      "Number of Fourier coefficients: 7500\n",
      "Time step [ms]: 0.0005000000000000001\n",
      "Number of points: 29999\n",
      "|████████████████████████████████████████| 7500/7500 [100%] in 5.3s (1420.83/s) \n"
     ]
    }
   ],
   "source": [
    "# Time grid\n",
    "t     = EXP.timegrid([elec])\n",
    "\n",
    "# Compute the generated potential \n",
    "sqs   = 0.105 # Quasi-static conductivity (only required if electric_model == \"QS\")\n",
    "pot   = EXP.compute_potential(t,elec, TISSUE, sigma_qs = sqs)\n",
    "\n",
    "# Join the potential and its data\n",
    "elec1 = (elec,pot)"
   ]
  },
  {
   "cell_type": "markdown",
   "metadata": {},
   "source": [
    "### Construct the MRG model fiber\n",
    "\n",
    "You can provide all necesarry parameters here. The model is assembled using Neuron capabilities."
   ]
  },
  {
   "cell_type": "code",
   "execution_count": 12,
   "metadata": {},
   "outputs": [],
   "source": [
    "# create fiber #\n",
    "fiber_params = {\"constant_cm\" : 0,\n",
    "                \"c_dc\" : 1.0,\n",
    "                \"is_xtra\" : 1,\n",
    "                \"intra_node\" : 0,\n",
    "                \"fiberD\" : 16.0,\n",
    "                \"nnodes\" : 84}\n",
    "FIBER = FiberConstructor(fiber_params).assign_fiber_model(\"MRG\")"
   ]
  },
  {
   "cell_type": "markdown",
   "metadata": {},
   "source": [
    "### Run Neuron!\n",
    "Set the necessary parameters in Neuron and run the neural simulation."
   ]
  },
  {
   "cell_type": "code",
   "execution_count": 13,
   "metadata": {},
   "outputs": [
    {
     "name": "stdout",
     "output_type": "stream",
     "text": [
      "Applying extracellular potential...\n",
      "Running neuron!\n",
      "Time elapsed [s]: 22.55168128013611\n"
     ]
    },
    {
     "data": {
      "image/png": "[encoded data removed]",
      "text/plain": [
       "<Figure size 432x288 with 2 Axes>"
      ]
     },
     "metadata": {
      "needs_background": "light"
     },
     "output_type": "display_data"
    }
   ],
   "source": [
    "# neuron parameters\n",
    "h_params = {\"temperature\": 37, # Celsius\n",
    "            \"v_init\" : -77.3,  # [mV]\n",
    "            \"tend\" : source_params[\"tend\"],\n",
    "            \"cvode\": 0}\n",
    "\n",
    "# Run simulation!\n",
    "tr0 = time.time()\n",
    "th, output  = NeuronExperiment(h_params).run_neuron(FIBER,t*1e3,(elec1,))\n",
    "print(\"Time elapsed [s]:\", time.time()-tr0 )\n",
    "\n",
    "# Show the applied potential (output[\"ex\"]) and voltage in the end of the fiber (output[\"ve\"])\n",
    "fig,ax = plt.subplots(2,1, sharex = True)\n",
    "ax[0].plot(th, output[\"ex\"], label = \"neuron\")\n",
    "ax[0].set_xlabel(\"time [ms]\")\n",
    "ax[0].set_ylabel(\"Electric stimulus [mV]\")\n",
    "ax[1].plot(th, output[\"ve\"])\n",
    "ax[1].set_xlabel(\"time [ms]\")\n",
    "ax[1].set_ylabel(\"Fiber potential [mV]\")\n",
    "\n",
    "plt.show()\n"
   ]
  },
  {
   "cell_type": "code",
   "execution_count": null,
   "metadata": {},
   "outputs": [],
   "source": []
  }
 ],
 "metadata": {
  "kernelspec": {
   "display_name": "Python 3",
   "language": "python",
   "name": "python3"
  },
  "language_info": {
   "codemirror_mode": {
    "name": "ipython",
    "version": 3
   },
   "file_extension": ".py",
   "mimetype": "text/x-python",
   "name": "python",
   "nbconvert_exporter": "python",
   "pygments_lexer": "ipython3",
   "version": "3.7.0"
  },
  "orig_nbformat": 4
 },
 "nbformat": 4,
 "nbformat_minor": 2
}
